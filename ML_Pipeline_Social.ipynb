{
 "cells": [
  {
   "cell_type": "code",
   "execution_count": 36,
   "metadata": {},
   "outputs": [],
   "source": [
    "import pandas as pd\n",
    "from sklearn.preprocessing import LabelEncoder, OneHotEncoder, StandardScaler\n",
    "from mpl_toolkits.mplot3d import Axes3D\n",
    "from sklearn.datasets import make_regression\n",
    "%matplotlib inline\n",
    "import matplotlib.pyplot as plt\n",
    "import numpy as np\n",
    "from sklearn.linear_model import LinearRegression, LogisticRegression\n",
    "from sklearn.compose import make_column_transformer"
   ]
  },
  {
   "cell_type": "code",
   "execution_count": 37,
   "metadata": {},
   "outputs": [],
   "source": [
    "df = pd.read_csv('Resources/2016_SocialSurvey_Mil_AgeGrp.csv')"
   ]
  },
  {
   "cell_type": "code",
   "execution_count": 38,
   "metadata": {},
   "outputs": [
    {
     "output_type": "execute_result",
     "data": {
      "text/plain": "(704, 128)"
     },
     "metadata": {},
     "execution_count": 38
    }
   ],
   "source": [
    "df.shape"
   ]
  },
  {
   "cell_type": "code",
   "execution_count": 39,
   "metadata": {},
   "outputs": [
    {
     "output_type": "execute_result",
     "data": {
      "text/plain": "Index(['Gss year for this respondent                       ',\n       'Respondent id number', 'Labor force status',\n       'Number of hours worked last week',\n       'Number of hours usually work a week', 'Ever work as long as one year',\n       'R self-emp or works for somebody', 'Rs census occupation code (1980)',\n       'Rs industry code   (1980)', 'Rs census occupation code (2010)',\n       ...\n       'Importance of personal contact at work',\n       'How often do you work from home', 'Do you work weekends',\n       'How are your working hours decided', 'What is your working schedule',\n       'I would change my work for something different',\n       'Did you work multiple jobs in past yr',\n       'How much earned from additional jobs in past yr', 'Job satisfaction',\n       'Type of structure in which the respondent lives'],\n      dtype='object', length=128)"
     },
     "metadata": {},
     "execution_count": 39
    }
   ],
   "source": [
    "df.columns"
   ]
  },
  {
   "cell_type": "code",
   "execution_count": 40,
   "metadata": {},
   "outputs": [
    {
     "output_type": "execute_result",
     "data": {
      "text/plain": "Gss year for this respondent                           0\nRespondent id number                                   0\nLabor force status                                     0\nNumber of hours worked last week                       0\nNumber of hours usually work a week                    0\n                                                      ..\nI would change my work for something different         0\nDid you work multiple jobs in past yr                  0\nHow much earned from additional jobs in past yr        0\nJob satisfaction                                       0\nType of structure in which the respondent lives        0\nLength: 128, dtype: int64"
     },
     "metadata": {},
     "execution_count": 40
    }
   ],
   "source": [
    "df.isna().sum()"
   ]
  },
  {
   "cell_type": "code",
   "execution_count": 41,
   "metadata": {},
   "outputs": [
    {
     "output_type": "execute_result",
     "data": {
      "text/plain": "   Gss year for this respondent                         Respondent id number  \\\n0                                               2016                       8   \n1                                               2016                      11   \n2                                               2016                      16   \n3                                               2016                      19   \n4                                               2016                      23   \n\n  Labor force status Number of hours worked last week  \\\n0   Working parttime                               30   \n1      Keeping house                   Not applicable   \n2   Working fulltime                               42   \n3   Working fulltime                               40   \n4   Working parttime                               15   \n\n  Number of hours usually work a week Ever work as long as one year  \\\n0                      Not applicable                Not applicable   \n1                      Not applicable                           Yes   \n2                      Not applicable                Not applicable   \n3                      Not applicable                Not applicable   \n4                      Not applicable                Not applicable   \n\n  R self-emp or works for somebody Rs census occupation code (1980)  \\\n0                     Someone else                   Not applicable   \n1                     Someone else                   Not applicable   \n2                     Someone else                   Not applicable   \n3                     Someone else                   Not applicable   \n4                     Someone else                   Not applicable   \n\n  Rs industry code   (1980)             Rs census occupation code (2010)  ...  \\\n0            Not applicable                          Personal care aides  ...   \n1            Not applicable  Nursing, psychiatric, and home health aides  ...   \n2            Not applicable                                    Designers  ...   \n3            Not applicable        Elementary and middle school teachers  ...   \n4            Not applicable                                     Cashiers  ...   \n\n  Importance of personal contact at work  How often do you work from home  \\\n0                         Very important                        Sometimes   \n1                         Very important                   Not applicable   \n2                              Important                            Never   \n3      Neither important nor unimportant                      Hardly ever   \n4                              Important                            Never   \n\n  Do you work weekends                 How are your working hours decided  \\\n0               Always  I have a schedule or shift which regularly cha...   \n1       Not applicable                                     Not applicable   \n2               Always  Starting and finishing times are decided by my...   \n3            Sometimes  Starting and finishing times are decided by my...   \n4               Always  Starting and finishing times are decided by my...   \n\n                       What is your working schedule  \\\n0  I have a schedule or shift which regularly cha...   \n1                                     Not applicable   \n2  I have a regular schedule or shift (daytime, e...   \n3  I have a regular schedule or shift (daytime, e...   \n4  I have a schedule or shift which regularly cha...   \n\n  I would change my work for something different  \\\n0                                 Strongly agree   \n1                                 Not applicable   \n2                              Strongly disagree   \n3                                          Agree   \n4                                 Strongly agree   \n\n  Did you work multiple jobs in past yr  \\\n0                                    No   \n1                        Not applicable   \n2                                    No   \n3                                    No   \n4                                    No   \n\n   How much earned from additional jobs in past yr Job satisfaction  \\\n0                                   Not applicable   Not applicable   \n1                                   Not applicable   Not applicable   \n2                                   Not applicable   Not applicable   \n3                                   Not applicable   Not applicable   \n4                                   Not applicable   Not applicable   \n\n     Type of structure in which the respondent lives  \n0        2-FAMILY HOUSE, 2 UNITS ONE ABOVE THE OTHER  \n1                       DETACHED SINGLE FAMILY HOUSE  \n2               2-FAMILY HOUSE, 2 UNITS SIDE-BY-SIDE  \n3  APARTMENT HOUSE (5 OR MORE UNITS, 4 STORIES OR...  \n4  APARTMENT HOUSE (5 OR MORE UNITS, 3 STORIES OR...  \n\n[5 rows x 128 columns]",
      "text/html": "<div>\n<style scoped>\n    .dataframe tbody tr th:only-of-type {\n        vertical-align: middle;\n    }\n\n    .dataframe tbody tr th {\n        vertical-align: top;\n    }\n\n    .dataframe thead th {\n        text-align: right;\n    }\n</style>\n<table border=\"1\" class=\"dataframe\">\n  <thead>\n    <tr style=\"text-align: right;\">\n      <th></th>\n      <th>Gss year for this respondent</th>\n      <th>Respondent id number</th>\n      <th>Labor force status</th>\n      <th>Number of hours worked last week</th>\n      <th>Number of hours usually work a week</th>\n      <th>Ever work as long as one year</th>\n      <th>R self-emp or works for somebody</th>\n      <th>Rs census occupation code (1980)</th>\n      <th>Rs industry code   (1980)</th>\n      <th>Rs census occupation code (2010)</th>\n      <th>...</th>\n      <th>Importance of personal contact at work</th>\n      <th>How often do you work from home</th>\n      <th>Do you work weekends</th>\n      <th>How are your working hours decided</th>\n      <th>What is your working schedule</th>\n      <th>I would change my work for something different</th>\n      <th>Did you work multiple jobs in past yr</th>\n      <th>How much earned from additional jobs in past yr</th>\n      <th>Job satisfaction</th>\n      <th>Type of structure in which the respondent lives</th>\n    </tr>\n  </thead>\n  <tbody>\n    <tr>\n      <td>0</td>\n      <td>2016</td>\n      <td>8</td>\n      <td>Working parttime</td>\n      <td>30</td>\n      <td>Not applicable</td>\n      <td>Not applicable</td>\n      <td>Someone else</td>\n      <td>Not applicable</td>\n      <td>Not applicable</td>\n      <td>Personal care aides</td>\n      <td>...</td>\n      <td>Very important</td>\n      <td>Sometimes</td>\n      <td>Always</td>\n      <td>I have a schedule or shift which regularly cha...</td>\n      <td>I have a schedule or shift which regularly cha...</td>\n      <td>Strongly agree</td>\n      <td>No</td>\n      <td>Not applicable</td>\n      <td>Not applicable</td>\n      <td>2-FAMILY HOUSE, 2 UNITS ONE ABOVE THE OTHER</td>\n    </tr>\n    <tr>\n      <td>1</td>\n      <td>2016</td>\n      <td>11</td>\n      <td>Keeping house</td>\n      <td>Not applicable</td>\n      <td>Not applicable</td>\n      <td>Yes</td>\n      <td>Someone else</td>\n      <td>Not applicable</td>\n      <td>Not applicable</td>\n      <td>Nursing, psychiatric, and home health aides</td>\n      <td>...</td>\n      <td>Very important</td>\n      <td>Not applicable</td>\n      <td>Not applicable</td>\n      <td>Not applicable</td>\n      <td>Not applicable</td>\n      <td>Not applicable</td>\n      <td>Not applicable</td>\n      <td>Not applicable</td>\n      <td>Not applicable</td>\n      <td>DETACHED SINGLE FAMILY HOUSE</td>\n    </tr>\n    <tr>\n      <td>2</td>\n      <td>2016</td>\n      <td>16</td>\n      <td>Working fulltime</td>\n      <td>42</td>\n      <td>Not applicable</td>\n      <td>Not applicable</td>\n      <td>Someone else</td>\n      <td>Not applicable</td>\n      <td>Not applicable</td>\n      <td>Designers</td>\n      <td>...</td>\n      <td>Important</td>\n      <td>Never</td>\n      <td>Always</td>\n      <td>Starting and finishing times are decided by my...</td>\n      <td>I have a regular schedule or shift (daytime, e...</td>\n      <td>Strongly disagree</td>\n      <td>No</td>\n      <td>Not applicable</td>\n      <td>Not applicable</td>\n      <td>2-FAMILY HOUSE, 2 UNITS SIDE-BY-SIDE</td>\n    </tr>\n    <tr>\n      <td>3</td>\n      <td>2016</td>\n      <td>19</td>\n      <td>Working fulltime</td>\n      <td>40</td>\n      <td>Not applicable</td>\n      <td>Not applicable</td>\n      <td>Someone else</td>\n      <td>Not applicable</td>\n      <td>Not applicable</td>\n      <td>Elementary and middle school teachers</td>\n      <td>...</td>\n      <td>Neither important nor unimportant</td>\n      <td>Hardly ever</td>\n      <td>Sometimes</td>\n      <td>Starting and finishing times are decided by my...</td>\n      <td>I have a regular schedule or shift (daytime, e...</td>\n      <td>Agree</td>\n      <td>No</td>\n      <td>Not applicable</td>\n      <td>Not applicable</td>\n      <td>APARTMENT HOUSE (5 OR MORE UNITS, 4 STORIES OR...</td>\n    </tr>\n    <tr>\n      <td>4</td>\n      <td>2016</td>\n      <td>23</td>\n      <td>Working parttime</td>\n      <td>15</td>\n      <td>Not applicable</td>\n      <td>Not applicable</td>\n      <td>Someone else</td>\n      <td>Not applicable</td>\n      <td>Not applicable</td>\n      <td>Cashiers</td>\n      <td>...</td>\n      <td>Important</td>\n      <td>Never</td>\n      <td>Always</td>\n      <td>Starting and finishing times are decided by my...</td>\n      <td>I have a schedule or shift which regularly cha...</td>\n      <td>Strongly agree</td>\n      <td>No</td>\n      <td>Not applicable</td>\n      <td>Not applicable</td>\n      <td>APARTMENT HOUSE (5 OR MORE UNITS, 3 STORIES OR...</td>\n    </tr>\n  </tbody>\n</table>\n<p>5 rows × 128 columns</p>\n</div>"
     },
     "metadata": {},
     "execution_count": 41
    }
   ],
   "source": [
    "# Drop the null columns where all values are null\n",
    "df = df.dropna(axis='columns', how='all')\n",
    "# Drop the null rows\n",
    "df = df.dropna()\n",
    "df.head()"
   ]
  },
  {
   "cell_type": "code",
   "execution_count": 43,
   "metadata": {},
   "outputs": [
    {
     "output_type": "execute_result",
     "data": {
      "text/plain": "(704, 128)"
     },
     "metadata": {},
     "execution_count": 43
    }
   ],
   "source": [
    "df.shape"
   ]
  },
  {
   "cell_type": "code",
   "execution_count": 44,
   "metadata": {},
   "outputs": [
    {
     "output_type": "execute_result",
     "data": {
      "text/plain": "(704, 1088)"
     },
     "metadata": {},
     "execution_count": 44
    }
   ],
   "source": [
    "pd.get_dummies(df).shape"
   ]
  },
  {
   "cell_type": "code",
   "execution_count": 45,
   "metadata": {},
   "outputs": [
    {
     "output_type": "execute_result",
     "data": {
      "text/plain": "(704, 94)"
     },
     "metadata": {},
     "execution_count": 45
    }
   ],
   "source": [
    "for col in df.columns:\n",
    "    if len(df[col].unique()) == 1:\n",
    "        df.drop(col,inplace=True,axis=1)\n",
    "df.shape"
   ]
  },
  {
   "cell_type": "code",
   "execution_count": 46,
   "metadata": {},
   "outputs": [
    {
     "output_type": "execute_result",
     "data": {
      "text/plain": "     Respondent id number Labor force status Number of hours worked last week  \\\n0                       8   Working parttime                               30   \n1                      11      Keeping house                   Not applicable   \n2                      16   Working fulltime                               42   \n3                      19   Working fulltime                               40   \n4                      23   Working parttime                               15   \n..                    ...                ...                              ...   \n699                  2833   Working fulltime                               50   \n700                  2839   Working fulltime                               37   \n701                  2845   Working fulltime                               40   \n702                  2850   Working fulltime                               40   \n703                  2857   Working fulltime                               40   \n\n    Number of hours usually work a week Ever work as long as one year  \\\n0                        Not applicable                Not applicable   \n1                        Not applicable                           Yes   \n2                        Not applicable                Not applicable   \n3                        Not applicable                Not applicable   \n4                        Not applicable                Not applicable   \n..                                  ...                           ...   \n699                      Not applicable                Not applicable   \n700                      Not applicable                Not applicable   \n701                      Not applicable                Not applicable   \n702                      Not applicable                Not applicable   \n703                      Not applicable                Not applicable   \n\n    R self-emp or works for somebody  \\\n0                       Someone else   \n1                       Someone else   \n2                       Someone else   \n3                       Someone else   \n4                       Someone else   \n..                               ...   \n699                     Someone else   \n700                     Someone else   \n701                     Someone else   \n702                     Someone else   \n703                     Someone else   \n\n                      Rs census occupation code (2010) Number of children  \\\n0                                  Personal care aides                  3   \n1          Nursing, psychiatric, and home health aides                  5   \n2                                            Designers                  2   \n3                Elementary and middle school teachers                  0   \n4                                             Cashiers                  2   \n..                                                 ...                ...   \n699              Elementary and middle school teachers                  0   \n700       Bookkeeping, accounting, and auditing clerks                  1   \n701                                 Teacher assistants                  0   \n702  Laborers and freight, stock, and material move...                  1   \n703                                  Registered nurses                  2   \n\n     Age of respondent Highest year of school completed  ...  \\\n0                   23                               11  ...   \n1                   33                               12  ...   \n2                   33                               13  ...   \n3                   31                               18  ...   \n4                   23                               10  ...   \n..                 ...                              ...  ...   \n699                 27                               18  ...   \n700                 30                               16  ...   \n701                 24                               14  ...   \n702                 34                               12  ...   \n703                 35                               15  ...   \n\n    Importance of personal contact at work How often do you work from home  \\\n0                           Very important                       Sometimes   \n1                           Very important                  Not applicable   \n2                                Important                           Never   \n3        Neither important nor unimportant                     Hardly ever   \n4                                Important                           Never   \n..                                     ...                             ...   \n699                         Very important                          Always   \n700                         Not applicable                  Not applicable   \n701                         Not applicable                  Not applicable   \n702                              Important                           Never   \n703                         Not applicable                  Not applicable   \n\n    Do you work weekends                 How are your working hours decided  \\\n0                 Always  I have a schedule or shift which regularly cha...   \n1         Not applicable                                     Not applicable   \n2                 Always  Starting and finishing times are decided by my...   \n3              Sometimes  Starting and finishing times are decided by my...   \n4                 Always  Starting and finishing times are decided by my...   \n..                   ...                                                ...   \n699                Often  Starting and finishing times are decided by my...   \n700       Not applicable                                     Not applicable   \n701       Not applicable                                     Not applicable   \n702            Sometimes  Starting and finishing times are decided by my...   \n703       Not applicable                                     Not applicable   \n\n                         What is your working schedule  \\\n0    I have a schedule or shift which regularly cha...   \n1                                       Not applicable   \n2    I have a regular schedule or shift (daytime, e...   \n3    I have a regular schedule or shift (daytime, e...   \n4    I have a schedule or shift which regularly cha...   \n..                                                 ...   \n699  I have a regular schedule or shift (daytime, e...   \n700                                     Not applicable   \n701                                     Not applicable   \n702  I have a regular schedule or shift (daytime, e...   \n703                                     Not applicable   \n\n    I would change my work for something different  \\\n0                                   Strongly agree   \n1                                   Not applicable   \n2                                Strongly disagree   \n3                                            Agree   \n4                                   Strongly agree   \n..                                             ...   \n699                              Strongly disagree   \n700                                 Not applicable   \n701                                 Not applicable   \n702                                 Strongly agree   \n703                                 Not applicable   \n\n    Did you work multiple jobs in past yr  \\\n0                                      No   \n1                          Not applicable   \n2                                      No   \n3                                      No   \n4                                      No   \n..                                    ...   \n699                                    No   \n700                        Not applicable   \n701                        Not applicable   \n702                                    No   \n703                        Not applicable   \n\n    How much earned from additional jobs in past yr   Job satisfaction  \\\n0                                    Not applicable     Not applicable   \n1                                    Not applicable     Not applicable   \n2                                    Not applicable     Not applicable   \n3                                    Not applicable     Not applicable   \n4                                    Not applicable     Not applicable   \n..                                              ...                ...   \n699                                  Not applicable     Not applicable   \n700                                  Not applicable     Not applicable   \n701                                  Not applicable     Very satisfied   \n702                                  Not applicable     Not applicable   \n703                                  Not applicable  Very dissatisfied   \n\n       Type of structure in which the respondent lives  \n0          2-FAMILY HOUSE, 2 UNITS ONE ABOVE THE OTHER  \n1                         DETACHED SINGLE FAMILY HOUSE  \n2                 2-FAMILY HOUSE, 2 UNITS SIDE-BY-SIDE  \n3    APARTMENT HOUSE (5 OR MORE UNITS, 4 STORIES OR...  \n4    APARTMENT HOUSE (5 OR MORE UNITS, 3 STORIES OR...  \n..                                                 ...  \n699                       DETACHED SINGLE FAMILY HOUSE  \n700                       DETACHED SINGLE FAMILY HOUSE  \n701                          DETACHED 3-4 FAMILY HOUSE  \n702                                            TRAILER  \n703                       DETACHED SINGLE FAMILY HOUSE  \n\n[704 rows x 94 columns]",
      "text/html": "<div>\n<style scoped>\n    .dataframe tbody tr th:only-of-type {\n        vertical-align: middle;\n    }\n\n    .dataframe tbody tr th {\n        vertical-align: top;\n    }\n\n    .dataframe thead th {\n        text-align: right;\n    }\n</style>\n<table border=\"1\" class=\"dataframe\">\n  <thead>\n    <tr style=\"text-align: right;\">\n      <th></th>\n      <th>Respondent id number</th>\n      <th>Labor force status</th>\n      <th>Number of hours worked last week</th>\n      <th>Number of hours usually work a week</th>\n      <th>Ever work as long as one year</th>\n      <th>R self-emp or works for somebody</th>\n      <th>Rs census occupation code (2010)</th>\n      <th>Number of children</th>\n      <th>Age of respondent</th>\n      <th>Highest year of school completed</th>\n      <th>...</th>\n      <th>Importance of personal contact at work</th>\n      <th>How often do you work from home</th>\n      <th>Do you work weekends</th>\n      <th>How are your working hours decided</th>\n      <th>What is your working schedule</th>\n      <th>I would change my work for something different</th>\n      <th>Did you work multiple jobs in past yr</th>\n      <th>How much earned from additional jobs in past yr</th>\n      <th>Job satisfaction</th>\n      <th>Type of structure in which the respondent lives</th>\n    </tr>\n  </thead>\n  <tbody>\n    <tr>\n      <td>0</td>\n      <td>8</td>\n      <td>Working parttime</td>\n      <td>30</td>\n      <td>Not applicable</td>\n      <td>Not applicable</td>\n      <td>Someone else</td>\n      <td>Personal care aides</td>\n      <td>3</td>\n      <td>23</td>\n      <td>11</td>\n      <td>...</td>\n      <td>Very important</td>\n      <td>Sometimes</td>\n      <td>Always</td>\n      <td>I have a schedule or shift which regularly cha...</td>\n      <td>I have a schedule or shift which regularly cha...</td>\n      <td>Strongly agree</td>\n      <td>No</td>\n      <td>Not applicable</td>\n      <td>Not applicable</td>\n      <td>2-FAMILY HOUSE, 2 UNITS ONE ABOVE THE OTHER</td>\n    </tr>\n    <tr>\n      <td>1</td>\n      <td>11</td>\n      <td>Keeping house</td>\n      <td>Not applicable</td>\n      <td>Not applicable</td>\n      <td>Yes</td>\n      <td>Someone else</td>\n      <td>Nursing, psychiatric, and home health aides</td>\n      <td>5</td>\n      <td>33</td>\n      <td>12</td>\n      <td>...</td>\n      <td>Very important</td>\n      <td>Not applicable</td>\n      <td>Not applicable</td>\n      <td>Not applicable</td>\n      <td>Not applicable</td>\n      <td>Not applicable</td>\n      <td>Not applicable</td>\n      <td>Not applicable</td>\n      <td>Not applicable</td>\n      <td>DETACHED SINGLE FAMILY HOUSE</td>\n    </tr>\n    <tr>\n      <td>2</td>\n      <td>16</td>\n      <td>Working fulltime</td>\n      <td>42</td>\n      <td>Not applicable</td>\n      <td>Not applicable</td>\n      <td>Someone else</td>\n      <td>Designers</td>\n      <td>2</td>\n      <td>33</td>\n      <td>13</td>\n      <td>...</td>\n      <td>Important</td>\n      <td>Never</td>\n      <td>Always</td>\n      <td>Starting and finishing times are decided by my...</td>\n      <td>I have a regular schedule or shift (daytime, e...</td>\n      <td>Strongly disagree</td>\n      <td>No</td>\n      <td>Not applicable</td>\n      <td>Not applicable</td>\n      <td>2-FAMILY HOUSE, 2 UNITS SIDE-BY-SIDE</td>\n    </tr>\n    <tr>\n      <td>3</td>\n      <td>19</td>\n      <td>Working fulltime</td>\n      <td>40</td>\n      <td>Not applicable</td>\n      <td>Not applicable</td>\n      <td>Someone else</td>\n      <td>Elementary and middle school teachers</td>\n      <td>0</td>\n      <td>31</td>\n      <td>18</td>\n      <td>...</td>\n      <td>Neither important nor unimportant</td>\n      <td>Hardly ever</td>\n      <td>Sometimes</td>\n      <td>Starting and finishing times are decided by my...</td>\n      <td>I have a regular schedule or shift (daytime, e...</td>\n      <td>Agree</td>\n      <td>No</td>\n      <td>Not applicable</td>\n      <td>Not applicable</td>\n      <td>APARTMENT HOUSE (5 OR MORE UNITS, 4 STORIES OR...</td>\n    </tr>\n    <tr>\n      <td>4</td>\n      <td>23</td>\n      <td>Working parttime</td>\n      <td>15</td>\n      <td>Not applicable</td>\n      <td>Not applicable</td>\n      <td>Someone else</td>\n      <td>Cashiers</td>\n      <td>2</td>\n      <td>23</td>\n      <td>10</td>\n      <td>...</td>\n      <td>Important</td>\n      <td>Never</td>\n      <td>Always</td>\n      <td>Starting and finishing times are decided by my...</td>\n      <td>I have a schedule or shift which regularly cha...</td>\n      <td>Strongly agree</td>\n      <td>No</td>\n      <td>Not applicable</td>\n      <td>Not applicable</td>\n      <td>APARTMENT HOUSE (5 OR MORE UNITS, 3 STORIES OR...</td>\n    </tr>\n    <tr>\n      <td>...</td>\n      <td>...</td>\n      <td>...</td>\n      <td>...</td>\n      <td>...</td>\n      <td>...</td>\n      <td>...</td>\n      <td>...</td>\n      <td>...</td>\n      <td>...</td>\n      <td>...</td>\n      <td>...</td>\n      <td>...</td>\n      <td>...</td>\n      <td>...</td>\n      <td>...</td>\n      <td>...</td>\n      <td>...</td>\n      <td>...</td>\n      <td>...</td>\n      <td>...</td>\n      <td>...</td>\n    </tr>\n    <tr>\n      <td>699</td>\n      <td>2833</td>\n      <td>Working fulltime</td>\n      <td>50</td>\n      <td>Not applicable</td>\n      <td>Not applicable</td>\n      <td>Someone else</td>\n      <td>Elementary and middle school teachers</td>\n      <td>0</td>\n      <td>27</td>\n      <td>18</td>\n      <td>...</td>\n      <td>Very important</td>\n      <td>Always</td>\n      <td>Often</td>\n      <td>Starting and finishing times are decided by my...</td>\n      <td>I have a regular schedule or shift (daytime, e...</td>\n      <td>Strongly disagree</td>\n      <td>No</td>\n      <td>Not applicable</td>\n      <td>Not applicable</td>\n      <td>DETACHED SINGLE FAMILY HOUSE</td>\n    </tr>\n    <tr>\n      <td>700</td>\n      <td>2839</td>\n      <td>Working fulltime</td>\n      <td>37</td>\n      <td>Not applicable</td>\n      <td>Not applicable</td>\n      <td>Someone else</td>\n      <td>Bookkeeping, accounting, and auditing clerks</td>\n      <td>1</td>\n      <td>30</td>\n      <td>16</td>\n      <td>...</td>\n      <td>Not applicable</td>\n      <td>Not applicable</td>\n      <td>Not applicable</td>\n      <td>Not applicable</td>\n      <td>Not applicable</td>\n      <td>Not applicable</td>\n      <td>Not applicable</td>\n      <td>Not applicable</td>\n      <td>Not applicable</td>\n      <td>DETACHED SINGLE FAMILY HOUSE</td>\n    </tr>\n    <tr>\n      <td>701</td>\n      <td>2845</td>\n      <td>Working fulltime</td>\n      <td>40</td>\n      <td>Not applicable</td>\n      <td>Not applicable</td>\n      <td>Someone else</td>\n      <td>Teacher assistants</td>\n      <td>0</td>\n      <td>24</td>\n      <td>14</td>\n      <td>...</td>\n      <td>Not applicable</td>\n      <td>Not applicable</td>\n      <td>Not applicable</td>\n      <td>Not applicable</td>\n      <td>Not applicable</td>\n      <td>Not applicable</td>\n      <td>Not applicable</td>\n      <td>Not applicable</td>\n      <td>Very satisfied</td>\n      <td>DETACHED 3-4 FAMILY HOUSE</td>\n    </tr>\n    <tr>\n      <td>702</td>\n      <td>2850</td>\n      <td>Working fulltime</td>\n      <td>40</td>\n      <td>Not applicable</td>\n      <td>Not applicable</td>\n      <td>Someone else</td>\n      <td>Laborers and freight, stock, and material move...</td>\n      <td>1</td>\n      <td>34</td>\n      <td>12</td>\n      <td>...</td>\n      <td>Important</td>\n      <td>Never</td>\n      <td>Sometimes</td>\n      <td>Starting and finishing times are decided by my...</td>\n      <td>I have a regular schedule or shift (daytime, e...</td>\n      <td>Strongly agree</td>\n      <td>No</td>\n      <td>Not applicable</td>\n      <td>Not applicable</td>\n      <td>TRAILER</td>\n    </tr>\n    <tr>\n      <td>703</td>\n      <td>2857</td>\n      <td>Working fulltime</td>\n      <td>40</td>\n      <td>Not applicable</td>\n      <td>Not applicable</td>\n      <td>Someone else</td>\n      <td>Registered nurses</td>\n      <td>2</td>\n      <td>35</td>\n      <td>15</td>\n      <td>...</td>\n      <td>Not applicable</td>\n      <td>Not applicable</td>\n      <td>Not applicable</td>\n      <td>Not applicable</td>\n      <td>Not applicable</td>\n      <td>Not applicable</td>\n      <td>Not applicable</td>\n      <td>Not applicable</td>\n      <td>Very dissatisfied</td>\n      <td>DETACHED SINGLE FAMILY HOUSE</td>\n    </tr>\n  </tbody>\n</table>\n<p>704 rows × 94 columns</p>\n</div>"
     },
     "metadata": {},
     "execution_count": 46
    }
   ],
   "source": [
    "df"
   ]
  },
  {
   "cell_type": "code",
   "execution_count": 51,
   "metadata": {},
   "outputs": [
    {
     "output_type": "execute_result",
     "data": {
      "text/plain": "Index(['Respondent id number', 'Labor force status',\n       'Number of hours worked last week',\n       'Number of hours usually work a week', 'Ever work as long as one year',\n       'R self-emp or works for somebody', 'Rs census occupation code (2010)',\n       'Number of children', 'Age of respondent',\n       'Highest year of school completed', 'Rs highest degree',\n       'Respondents sex', 'Race of respondent', 'Was r born in this country',\n       'Number of persons in household', 'How many in family earned money',\n       'Total family income', 'Respondents income', 'Health -- version y',\n       'General happiness', 'Condition of health', 'Is life exciting or dull',\n       'To work hard', 'Weeks r. worked last year',\n       'Was r's work part-time or full-time?',\n       'Satisfaction with financial situation', 'Opinion of family income',\n       'Ever unemployed in last ten yrs', 'Opinion of how people get ahead',\n       'Rs living standard compared to parents',\n       'Days of poor mental health past 30 days',\n       'How often does r find work stressful',\n       'The highest degree r have earned',\n       'R preference re: work hrs and money', 'Rs job is secure',\n       'Rs income is high', 'R has opportunity to advance',\n       'Rs job is interesting', 'R can work independently',\n       'R helps others in job', 'Rs job is useful to society',\n       'How often does work exhaust r',\n       'Which job would you prefer               ',\n       'I am proud of the type of work i do',\n       'Have you ever had a paid job for 1 year or+', 'Is r us citizen',\n       'Does r own or rent home?', 'Number in family of r', 'Year of birth',\n       'Ballot used for interview', 'R's socioeconomic index (2010)',\n       'Respondents income.2', 'Stress at work in past 2 wks',\n       'I see myself as successful', 'I am meeting my current goals',\n       'Use internet/apps more than occassionally',\n       'Use internet/apps from phone or tablet',\n       'Used internet/apps yesterday', 'Use twitter', 'Use facebook',\n       'Use instagrm', 'Use linkedin', 'Use snapchat', 'Use tumblr',\n       'Use whatsapp', 'Use googlesn', 'Use pinterst', 'Use flickr',\n       'Use vine', 'Use clssmtes', 'Minutes of internet use on weekdays',\n       'Hours of internet use on weekdays',\n       'Minutes of internet use on weekends',\n       'Hours of internet use on weekends', 'How are you paid',\n       'How many hrs/week do you usually work',\n       'Most hrs/week worked in past month',\n       'Fewest hrs/week worked in past month',\n       'How much time felt depressed in past wk',\n       'How much time sleep was restless in past wk',\n       'How much time felt happy in past wk',\n       'How much time felt lonely in past wk',\n       'How much time felt sad in past wk',\n       'Importance of flexible hrs. at work',\n       'Importance of personal contact at work',\n       'How often do you work from home', 'Do you work weekends',\n       'How are your working hours decided', 'What is your working schedule',\n       'I would change my work for something different',\n       'Did you work multiple jobs in past yr',\n       'How much earned from additional jobs in past yr', 'Job satisfaction',\n       'Type of structure in which the respondent lives'],\n      dtype='object')"
     },
     "metadata": {},
     "execution_count": 51
    }
   ],
   "source": [
    "df.columns"
   ]
  },
  {
   "cell_type": "code",
   "execution_count": 58,
   "metadata": {},
   "outputs": [],
   "source": [
    "df = df.drop(columns=['Respondent id number',\n",
    "        'Number of hours usually work a week',\n",
    "        'Ever work as long as one year',\n",
    "        'Use internet/apps more than occassionally',\n",
    "       'Use internet/apps from phone or tablet',\n",
    "       'Used internet/apps yesterday', 'Use twitter', 'Use facebook',\n",
    "       'Use instagrm', 'Use linkedin', 'Use snapchat', 'Use tumblr',\n",
    "       'Use whatsapp', 'Use googlesn', 'Use pinterst', 'Use flickr',\n",
    "       'Use vine', 'Use clssmtes', 'Minutes of internet use on weekdays',\n",
    "       'Hours of internet use on weekdays',\n",
    "       'Minutes of internet use on weekends',\n",
    "       'Hours of internet use on weekends'])"
   ]
  },
  {
   "cell_type": "code",
   "execution_count": 53,
   "metadata": {},
   "outputs": [],
   "source": [
    "from sklearn.preprocessing import OneHotEncoder\n",
    "from sklearn.compose import make_column_transformer"
   ]
  },
  {
   "cell_type": "code",
   "execution_count": 59,
   "metadata": {},
   "outputs": [
    {
     "output_type": "execute_result",
     "data": {
      "text/plain": "Index(['Labor force status', 'Number of hours worked last week',\n       'R self-emp or works for somebody', 'Rs census occupation code (2010)',\n       'Number of children', 'Age of respondent',\n       'Highest year of school completed', 'Rs highest degree',\n       'Respondents sex', 'Race of respondent', 'Was r born in this country',\n       'Number of persons in household', 'How many in family earned money',\n       'Total family income', 'Respondents income', 'Health -- version y',\n       'General happiness', 'Condition of health', 'Is life exciting or dull',\n       'To work hard', 'Weeks r. worked last year',\n       'Was r's work part-time or full-time?',\n       'Satisfaction with financial situation', 'Opinion of family income',\n       'Ever unemployed in last ten yrs', 'Opinion of how people get ahead',\n       'Rs living standard compared to parents',\n       'Days of poor mental health past 30 days',\n       'How often does r find work stressful',\n       'The highest degree r have earned',\n       'R preference re: work hrs and money', 'Rs job is secure',\n       'Rs income is high', 'R has opportunity to advance',\n       'Rs job is interesting', 'R can work independently',\n       'R helps others in job', 'Rs job is useful to society',\n       'How often does work exhaust r',\n       'Which job would you prefer               ',\n       'I am proud of the type of work i do',\n       'Have you ever had a paid job for 1 year or+', 'Is r us citizen',\n       'Does r own or rent home?', 'Number in family of r', 'Year of birth',\n       'Ballot used for interview', 'R's socioeconomic index (2010)',\n       'Respondents income.2', 'Stress at work in past 2 wks',\n       'I see myself as successful', 'I am meeting my current goals',\n       'How are you paid', 'How many hrs/week do you usually work',\n       'Most hrs/week worked in past month',\n       'Fewest hrs/week worked in past month',\n       'How much time felt depressed in past wk',\n       'How much time sleep was restless in past wk',\n       'How much time felt happy in past wk',\n       'How much time felt lonely in past wk',\n       'How much time felt sad in past wk',\n       'Importance of flexible hrs. at work',\n       'Importance of personal contact at work',\n       'How often do you work from home', 'Do you work weekends',\n       'How are your working hours decided', 'What is your working schedule',\n       'I would change my work for something different',\n       'Did you work multiple jobs in past yr',\n       'How much earned from additional jobs in past yr', 'Job satisfaction',\n       'Type of structure in which the respondent lives'],\n      dtype='object')"
     },
     "metadata": {},
     "execution_count": 59
    }
   ],
   "source": [
    "df.columns"
   ]
  },
  {
   "cell_type": "code",
   "execution_count": 62,
   "metadata": {},
   "outputs": [
    {
     "output_type": "execute_result",
     "data": {
      "text/plain": "Labor force status                                 object\nNumber of hours worked last week                   object\nR self-emp or works for somebody                   object\nRs census occupation code (2010)                   object\nNumber of children                                 object\n                                                    ...  \nI would change my work for something different     object\nDid you work multiple jobs in past yr              object\nHow much earned from additional jobs in past yr    object\nJob satisfaction                                   object\nType of structure in which the respondent lives    object\nLength: 72, dtype: object"
     },
     "metadata": {},
     "execution_count": 62
    }
   ],
   "source": [
    "df.dtypes"
   ]
  },
  {
   "cell_type": "code",
   "execution_count": 47,
   "metadata": {},
   "outputs": [],
   "source": [
    "x = df.iloc[:,:].values\n",
    "z_pre = pd.DataFrame(x)"
   ]
  },
  {
   "cell_type": "code",
   "execution_count": 48,
   "metadata": {},
   "outputs": [
    {
     "output_type": "execute_result",
     "data": {
      "text/plain": "array([[8, 'Working parttime', '30', ..., 'Not applicable',\n        'Not applicable', '2-FAMILY HOUSE, 2 UNITS ONE ABOVE THE OTHER'],\n       [11, 'Keeping house', 'Not applicable', ..., 'Not applicable',\n        'Not applicable', 'DETACHED SINGLE FAMILY HOUSE'],\n       [16, 'Working fulltime', '42', ..., 'Not applicable',\n        'Not applicable', '2-FAMILY HOUSE, 2 UNITS SIDE-BY-SIDE'],\n       ...,\n       [2845, 'Working fulltime', '40', ..., 'Not applicable',\n        'Very satisfied', 'DETACHED 3-4 FAMILY HOUSE'],\n       [2850, 'Working fulltime', '40', ..., 'Not applicable',\n        'Not applicable', 'TRAILER'],\n       [2857, 'Working fulltime', '40', ..., 'Not applicable',\n        'Very dissatisfied', 'DETACHED SINGLE FAMILY HOUSE']],\n      dtype=object)"
     },
     "metadata": {},
     "execution_count": 48
    }
   ],
   "source": [
    "x"
   ]
  },
  {
   "cell_type": "code",
   "execution_count": 49,
   "metadata": {},
   "outputs": [
    {
     "output_type": "execute_result",
     "data": {
      "text/plain": "       0                 1               2               3               4   \\\n0       8  Working parttime              30  Not applicable  Not applicable   \n1      11     Keeping house  Not applicable  Not applicable             Yes   \n2      16  Working fulltime              42  Not applicable  Not applicable   \n3      19  Working fulltime              40  Not applicable  Not applicable   \n4      23  Working parttime              15  Not applicable  Not applicable   \n..    ...               ...             ...             ...             ...   \n699  2833  Working fulltime              50  Not applicable  Not applicable   \n700  2839  Working fulltime              37  Not applicable  Not applicable   \n701  2845  Working fulltime              40  Not applicable  Not applicable   \n702  2850  Working fulltime              40  Not applicable  Not applicable   \n703  2857  Working fulltime              40  Not applicable  Not applicable   \n\n               5                                                  6  7   8   \\\n0    Someone else                                Personal care aides  3  23   \n1    Someone else        Nursing, psychiatric, and home health aides  5  33   \n2    Someone else                                          Designers  2  33   \n3    Someone else              Elementary and middle school teachers  0  31   \n4    Someone else                                           Cashiers  2  23   \n..            ...                                                ... ..  ..   \n699  Someone else              Elementary and middle school teachers  0  27   \n700  Someone else       Bookkeeping, accounting, and auditing clerks  1  30   \n701  Someone else                                 Teacher assistants  0  24   \n702  Someone else  Laborers and freight, stock, and material move...  1  34   \n703  Someone else                                  Registered nurses  2  35   \n\n     9   ...                                 84              85  \\\n0    11  ...                     Very important       Sometimes   \n1    12  ...                     Very important  Not applicable   \n2    13  ...                          Important           Never   \n3    18  ...  Neither important nor unimportant     Hardly ever   \n4    10  ...                          Important           Never   \n..   ..  ...                                ...             ...   \n699  18  ...                     Very important          Always   \n700  16  ...                     Not applicable  Not applicable   \n701  14  ...                     Not applicable  Not applicable   \n702  12  ...                          Important           Never   \n703  15  ...                     Not applicable  Not applicable   \n\n                 86                                                 87  \\\n0            Always  I have a schedule or shift which regularly cha...   \n1    Not applicable                                     Not applicable   \n2            Always  Starting and finishing times are decided by my...   \n3         Sometimes  Starting and finishing times are decided by my...   \n4            Always  Starting and finishing times are decided by my...   \n..              ...                                                ...   \n699           Often  Starting and finishing times are decided by my...   \n700  Not applicable                                     Not applicable   \n701  Not applicable                                     Not applicable   \n702       Sometimes  Starting and finishing times are decided by my...   \n703  Not applicable                                     Not applicable   \n\n                                                    88                 89  \\\n0    I have a schedule or shift which regularly cha...     Strongly agree   \n1                                       Not applicable     Not applicable   \n2    I have a regular schedule or shift (daytime, e...  Strongly disagree   \n3    I have a regular schedule or shift (daytime, e...              Agree   \n4    I have a schedule or shift which regularly cha...     Strongly agree   \n..                                                 ...                ...   \n699  I have a regular schedule or shift (daytime, e...  Strongly disagree   \n700                                     Not applicable     Not applicable   \n701                                     Not applicable     Not applicable   \n702  I have a regular schedule or shift (daytime, e...     Strongly agree   \n703                                     Not applicable     Not applicable   \n\n                 90              91                 92  \\\n0                No  Not applicable     Not applicable   \n1    Not applicable  Not applicable     Not applicable   \n2                No  Not applicable     Not applicable   \n3                No  Not applicable     Not applicable   \n4                No  Not applicable     Not applicable   \n..              ...             ...                ...   \n699              No  Not applicable     Not applicable   \n700  Not applicable  Not applicable     Not applicable   \n701  Not applicable  Not applicable     Very satisfied   \n702              No  Not applicable     Not applicable   \n703  Not applicable  Not applicable  Very dissatisfied   \n\n                                                    93  \n0          2-FAMILY HOUSE, 2 UNITS ONE ABOVE THE OTHER  \n1                         DETACHED SINGLE FAMILY HOUSE  \n2                 2-FAMILY HOUSE, 2 UNITS SIDE-BY-SIDE  \n3    APARTMENT HOUSE (5 OR MORE UNITS, 4 STORIES OR...  \n4    APARTMENT HOUSE (5 OR MORE UNITS, 3 STORIES OR...  \n..                                                 ...  \n699                       DETACHED SINGLE FAMILY HOUSE  \n700                       DETACHED SINGLE FAMILY HOUSE  \n701                          DETACHED 3-4 FAMILY HOUSE  \n702                                            TRAILER  \n703                       DETACHED SINGLE FAMILY HOUSE  \n\n[704 rows x 94 columns]",
      "text/html": "<div>\n<style scoped>\n    .dataframe tbody tr th:only-of-type {\n        vertical-align: middle;\n    }\n\n    .dataframe tbody tr th {\n        vertical-align: top;\n    }\n\n    .dataframe thead th {\n        text-align: right;\n    }\n</style>\n<table border=\"1\" class=\"dataframe\">\n  <thead>\n    <tr style=\"text-align: right;\">\n      <th></th>\n      <th>0</th>\n      <th>1</th>\n      <th>2</th>\n      <th>3</th>\n      <th>4</th>\n      <th>5</th>\n      <th>6</th>\n      <th>7</th>\n      <th>8</th>\n      <th>9</th>\n      <th>...</th>\n      <th>84</th>\n      <th>85</th>\n      <th>86</th>\n      <th>87</th>\n      <th>88</th>\n      <th>89</th>\n      <th>90</th>\n      <th>91</th>\n      <th>92</th>\n      <th>93</th>\n    </tr>\n  </thead>\n  <tbody>\n    <tr>\n      <td>0</td>\n      <td>8</td>\n      <td>Working parttime</td>\n      <td>30</td>\n      <td>Not applicable</td>\n      <td>Not applicable</td>\n      <td>Someone else</td>\n      <td>Personal care aides</td>\n      <td>3</td>\n      <td>23</td>\n      <td>11</td>\n      <td>...</td>\n      <td>Very important</td>\n      <td>Sometimes</td>\n      <td>Always</td>\n      <td>I have a schedule or shift which regularly cha...</td>\n      <td>I have a schedule or shift which regularly cha...</td>\n      <td>Strongly agree</td>\n      <td>No</td>\n      <td>Not applicable</td>\n      <td>Not applicable</td>\n      <td>2-FAMILY HOUSE, 2 UNITS ONE ABOVE THE OTHER</td>\n    </tr>\n    <tr>\n      <td>1</td>\n      <td>11</td>\n      <td>Keeping house</td>\n      <td>Not applicable</td>\n      <td>Not applicable</td>\n      <td>Yes</td>\n      <td>Someone else</td>\n      <td>Nursing, psychiatric, and home health aides</td>\n      <td>5</td>\n      <td>33</td>\n      <td>12</td>\n      <td>...</td>\n      <td>Very important</td>\n      <td>Not applicable</td>\n      <td>Not applicable</td>\n      <td>Not applicable</td>\n      <td>Not applicable</td>\n      <td>Not applicable</td>\n      <td>Not applicable</td>\n      <td>Not applicable</td>\n      <td>Not applicable</td>\n      <td>DETACHED SINGLE FAMILY HOUSE</td>\n    </tr>\n    <tr>\n      <td>2</td>\n      <td>16</td>\n      <td>Working fulltime</td>\n      <td>42</td>\n      <td>Not applicable</td>\n      <td>Not applicable</td>\n      <td>Someone else</td>\n      <td>Designers</td>\n      <td>2</td>\n      <td>33</td>\n      <td>13</td>\n      <td>...</td>\n      <td>Important</td>\n      <td>Never</td>\n      <td>Always</td>\n      <td>Starting and finishing times are decided by my...</td>\n      <td>I have a regular schedule or shift (daytime, e...</td>\n      <td>Strongly disagree</td>\n      <td>No</td>\n      <td>Not applicable</td>\n      <td>Not applicable</td>\n      <td>2-FAMILY HOUSE, 2 UNITS SIDE-BY-SIDE</td>\n    </tr>\n    <tr>\n      <td>3</td>\n      <td>19</td>\n      <td>Working fulltime</td>\n      <td>40</td>\n      <td>Not applicable</td>\n      <td>Not applicable</td>\n      <td>Someone else</td>\n      <td>Elementary and middle school teachers</td>\n      <td>0</td>\n      <td>31</td>\n      <td>18</td>\n      <td>...</td>\n      <td>Neither important nor unimportant</td>\n      <td>Hardly ever</td>\n      <td>Sometimes</td>\n      <td>Starting and finishing times are decided by my...</td>\n      <td>I have a regular schedule or shift (daytime, e...</td>\n      <td>Agree</td>\n      <td>No</td>\n      <td>Not applicable</td>\n      <td>Not applicable</td>\n      <td>APARTMENT HOUSE (5 OR MORE UNITS, 4 STORIES OR...</td>\n    </tr>\n    <tr>\n      <td>4</td>\n      <td>23</td>\n      <td>Working parttime</td>\n      <td>15</td>\n      <td>Not applicable</td>\n      <td>Not applicable</td>\n      <td>Someone else</td>\n      <td>Cashiers</td>\n      <td>2</td>\n      <td>23</td>\n      <td>10</td>\n      <td>...</td>\n      <td>Important</td>\n      <td>Never</td>\n      <td>Always</td>\n      <td>Starting and finishing times are decided by my...</td>\n      <td>I have a schedule or shift which regularly cha...</td>\n      <td>Strongly agree</td>\n      <td>No</td>\n      <td>Not applicable</td>\n      <td>Not applicable</td>\n      <td>APARTMENT HOUSE (5 OR MORE UNITS, 3 STORIES OR...</td>\n    </tr>\n    <tr>\n      <td>...</td>\n      <td>...</td>\n      <td>...</td>\n      <td>...</td>\n      <td>...</td>\n      <td>...</td>\n      <td>...</td>\n      <td>...</td>\n      <td>...</td>\n      <td>...</td>\n      <td>...</td>\n      <td>...</td>\n      <td>...</td>\n      <td>...</td>\n      <td>...</td>\n      <td>...</td>\n      <td>...</td>\n      <td>...</td>\n      <td>...</td>\n      <td>...</td>\n      <td>...</td>\n      <td>...</td>\n    </tr>\n    <tr>\n      <td>699</td>\n      <td>2833</td>\n      <td>Working fulltime</td>\n      <td>50</td>\n      <td>Not applicable</td>\n      <td>Not applicable</td>\n      <td>Someone else</td>\n      <td>Elementary and middle school teachers</td>\n      <td>0</td>\n      <td>27</td>\n      <td>18</td>\n      <td>...</td>\n      <td>Very important</td>\n      <td>Always</td>\n      <td>Often</td>\n      <td>Starting and finishing times are decided by my...</td>\n      <td>I have a regular schedule or shift (daytime, e...</td>\n      <td>Strongly disagree</td>\n      <td>No</td>\n      <td>Not applicable</td>\n      <td>Not applicable</td>\n      <td>DETACHED SINGLE FAMILY HOUSE</td>\n    </tr>\n    <tr>\n      <td>700</td>\n      <td>2839</td>\n      <td>Working fulltime</td>\n      <td>37</td>\n      <td>Not applicable</td>\n      <td>Not applicable</td>\n      <td>Someone else</td>\n      <td>Bookkeeping, accounting, and auditing clerks</td>\n      <td>1</td>\n      <td>30</td>\n      <td>16</td>\n      <td>...</td>\n      <td>Not applicable</td>\n      <td>Not applicable</td>\n      <td>Not applicable</td>\n      <td>Not applicable</td>\n      <td>Not applicable</td>\n      <td>Not applicable</td>\n      <td>Not applicable</td>\n      <td>Not applicable</td>\n      <td>Not applicable</td>\n      <td>DETACHED SINGLE FAMILY HOUSE</td>\n    </tr>\n    <tr>\n      <td>701</td>\n      <td>2845</td>\n      <td>Working fulltime</td>\n      <td>40</td>\n      <td>Not applicable</td>\n      <td>Not applicable</td>\n      <td>Someone else</td>\n      <td>Teacher assistants</td>\n      <td>0</td>\n      <td>24</td>\n      <td>14</td>\n      <td>...</td>\n      <td>Not applicable</td>\n      <td>Not applicable</td>\n      <td>Not applicable</td>\n      <td>Not applicable</td>\n      <td>Not applicable</td>\n      <td>Not applicable</td>\n      <td>Not applicable</td>\n      <td>Not applicable</td>\n      <td>Very satisfied</td>\n      <td>DETACHED 3-4 FAMILY HOUSE</td>\n    </tr>\n    <tr>\n      <td>702</td>\n      <td>2850</td>\n      <td>Working fulltime</td>\n      <td>40</td>\n      <td>Not applicable</td>\n      <td>Not applicable</td>\n      <td>Someone else</td>\n      <td>Laborers and freight, stock, and material move...</td>\n      <td>1</td>\n      <td>34</td>\n      <td>12</td>\n      <td>...</td>\n      <td>Important</td>\n      <td>Never</td>\n      <td>Sometimes</td>\n      <td>Starting and finishing times are decided by my...</td>\n      <td>I have a regular schedule or shift (daytime, e...</td>\n      <td>Strongly agree</td>\n      <td>No</td>\n      <td>Not applicable</td>\n      <td>Not applicable</td>\n      <td>TRAILER</td>\n    </tr>\n    <tr>\n      <td>703</td>\n      <td>2857</td>\n      <td>Working fulltime</td>\n      <td>40</td>\n      <td>Not applicable</td>\n      <td>Not applicable</td>\n      <td>Someone else</td>\n      <td>Registered nurses</td>\n      <td>2</td>\n      <td>35</td>\n      <td>15</td>\n      <td>...</td>\n      <td>Not applicable</td>\n      <td>Not applicable</td>\n      <td>Not applicable</td>\n      <td>Not applicable</td>\n      <td>Not applicable</td>\n      <td>Not applicable</td>\n      <td>Not applicable</td>\n      <td>Not applicable</td>\n      <td>Very dissatisfied</td>\n      <td>DETACHED SINGLE FAMILY HOUSE</td>\n    </tr>\n  </tbody>\n</table>\n<p>704 rows × 94 columns</p>\n</div>"
     },
     "metadata": {},
     "execution_count": 49
    }
   ],
   "source": [
    "z_pre"
   ]
  },
  {
   "cell_type": "code",
   "execution_count": 50,
   "metadata": {},
   "outputs": [
    {
     "output_type": "error",
     "ename": "ValueError",
     "evalue": "bad input shape (704, 94)",
     "traceback": [
      "\u001b[1;31m---------------------------------------------------------------------------\u001b[0m",
      "\u001b[1;31mValueError\u001b[0m                                Traceback (most recent call last)",
      "\u001b[1;32m<ipython-input-50-d290ea791e4f>\u001b[0m in \u001b[0;36m<module>\u001b[1;34m\u001b[0m\n\u001b[0;32m      1\u001b[0m \u001b[0mlabelEncoder_x\u001b[0m \u001b[1;33m=\u001b[0m \u001b[0mLabelEncoder\u001b[0m\u001b[1;33m(\u001b[0m\u001b[1;33m)\u001b[0m\u001b[1;33m\u001b[0m\u001b[1;33m\u001b[0m\u001b[0m\n\u001b[1;32m----> 2\u001b[1;33m \u001b[0mx\u001b[0m\u001b[1;33m[\u001b[0m\u001b[1;33m:\u001b[0m\u001b[1;33m,\u001b[0m\u001b[1;33m:\u001b[0m\u001b[1;33m]\u001b[0m\u001b[1;33m=\u001b[0m \u001b[0mlabelEncoder_x\u001b[0m\u001b[1;33m.\u001b[0m\u001b[0mfit_transform\u001b[0m\u001b[1;33m(\u001b[0m\u001b[0mx\u001b[0m\u001b[1;33m[\u001b[0m\u001b[1;33m:\u001b[0m\u001b[1;33m,\u001b[0m\u001b[1;33m:\u001b[0m\u001b[1;33m]\u001b[0m\u001b[1;33m)\u001b[0m\u001b[1;33m\u001b[0m\u001b[1;33m\u001b[0m\u001b[0m\n\u001b[0m\u001b[0;32m      3\u001b[0m \u001b[0mz\u001b[0m \u001b[1;33m=\u001b[0m \u001b[0mpd\u001b[0m\u001b[1;33m.\u001b[0m\u001b[0mDataFrame\u001b[0m\u001b[1;33m(\u001b[0m\u001b[0mx\u001b[0m\u001b[1;33m)\u001b[0m\u001b[1;33m\u001b[0m\u001b[1;33m\u001b[0m\u001b[0m\n",
      "\u001b[1;32m~\\AppData\\Local\\Continuum\\anaconda3\\lib\\site-packages\\sklearn\\preprocessing\\label.py\u001b[0m in \u001b[0;36mfit_transform\u001b[1;34m(self, y)\u001b[0m\n\u001b[0;32m    233\u001b[0m         \u001b[0my\u001b[0m \u001b[1;33m:\u001b[0m \u001b[0marray\u001b[0m\u001b[1;33m-\u001b[0m\u001b[0mlike\u001b[0m \u001b[0mof\u001b[0m \u001b[0mshape\u001b[0m \u001b[1;33m[\u001b[0m\u001b[0mn_samples\u001b[0m\u001b[1;33m]\u001b[0m\u001b[1;33m\u001b[0m\u001b[1;33m\u001b[0m\u001b[0m\n\u001b[0;32m    234\u001b[0m         \"\"\"\n\u001b[1;32m--> 235\u001b[1;33m         \u001b[0my\u001b[0m \u001b[1;33m=\u001b[0m \u001b[0mcolumn_or_1d\u001b[0m\u001b[1;33m(\u001b[0m\u001b[0my\u001b[0m\u001b[1;33m,\u001b[0m \u001b[0mwarn\u001b[0m\u001b[1;33m=\u001b[0m\u001b[1;32mTrue\u001b[0m\u001b[1;33m)\u001b[0m\u001b[1;33m\u001b[0m\u001b[1;33m\u001b[0m\u001b[0m\n\u001b[0m\u001b[0;32m    236\u001b[0m         \u001b[0mself\u001b[0m\u001b[1;33m.\u001b[0m\u001b[0mclasses_\u001b[0m\u001b[1;33m,\u001b[0m \u001b[0my\u001b[0m \u001b[1;33m=\u001b[0m \u001b[0m_encode\u001b[0m\u001b[1;33m(\u001b[0m\u001b[0my\u001b[0m\u001b[1;33m,\u001b[0m \u001b[0mencode\u001b[0m\u001b[1;33m=\u001b[0m\u001b[1;32mTrue\u001b[0m\u001b[1;33m)\u001b[0m\u001b[1;33m\u001b[0m\u001b[1;33m\u001b[0m\u001b[0m\n\u001b[0;32m    237\u001b[0m         \u001b[1;32mreturn\u001b[0m \u001b[0my\u001b[0m\u001b[1;33m\u001b[0m\u001b[1;33m\u001b[0m\u001b[0m\n",
      "\u001b[1;32m~\\AppData\\Local\\Continuum\\anaconda3\\lib\\site-packages\\sklearn\\utils\\validation.py\u001b[0m in \u001b[0;36mcolumn_or_1d\u001b[1;34m(y, warn)\u001b[0m\n\u001b[0;32m    758\u001b[0m         \u001b[1;32mreturn\u001b[0m \u001b[0mnp\u001b[0m\u001b[1;33m.\u001b[0m\u001b[0mravel\u001b[0m\u001b[1;33m(\u001b[0m\u001b[0my\u001b[0m\u001b[1;33m)\u001b[0m\u001b[1;33m\u001b[0m\u001b[1;33m\u001b[0m\u001b[0m\n\u001b[0;32m    759\u001b[0m \u001b[1;33m\u001b[0m\u001b[0m\n\u001b[1;32m--> 760\u001b[1;33m     \u001b[1;32mraise\u001b[0m \u001b[0mValueError\u001b[0m\u001b[1;33m(\u001b[0m\u001b[1;34m\"bad input shape {0}\"\u001b[0m\u001b[1;33m.\u001b[0m\u001b[0mformat\u001b[0m\u001b[1;33m(\u001b[0m\u001b[0mshape\u001b[0m\u001b[1;33m)\u001b[0m\u001b[1;33m)\u001b[0m\u001b[1;33m\u001b[0m\u001b[1;33m\u001b[0m\u001b[0m\n\u001b[0m\u001b[0;32m    761\u001b[0m \u001b[1;33m\u001b[0m\u001b[0m\n\u001b[0;32m    762\u001b[0m \u001b[1;33m\u001b[0m\u001b[0m\n",
      "\u001b[1;31mValueError\u001b[0m: bad input shape (704, 94)"
     ]
    }
   ],
   "source": [
    "labelEncoder_x = LabelEncoder()\n",
    "x[:,:]= labelEncoder_x.fit_transform(x[:,:])\n",
    "z = pd.DataFrame(x)"
   ]
  },
  {
   "cell_type": "code",
   "execution_count": null,
   "metadata": {},
   "outputs": [],
   "source": []
  }
 ],
 "metadata": {
  "language_info": {
   "codemirror_mode": {
    "name": "ipython",
    "version": 3
   },
   "file_extension": ".py",
   "mimetype": "text/x-python",
   "name": "python",
   "nbconvert_exporter": "python",
   "pygments_lexer": "ipython3",
   "version": "3.7.4-final"
  },
  "orig_nbformat": 2,
  "kernelspec": {
   "name": "python3",
   "display_name": "Python 3"
  }
 },
 "nbformat": 4,
 "nbformat_minor": 2
}
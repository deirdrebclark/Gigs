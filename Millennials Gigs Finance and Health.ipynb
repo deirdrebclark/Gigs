{
 "cells": [
  {
   "cell_type": "code",
   "execution_count": 1,
   "metadata": {},
   "outputs": [],
   "source": [
    "#Get dependencies\n",
    "import pandas as pd"
   ]
  },
  {
   "cell_type": "markdown",
   "metadata": {},
   "source": [
    "## 2016 Gig Economy Data"
   ]
  },
  {
   "cell_type": "code",
   "execution_count": null,
   "metadata": {},
   "outputs": [],
   "source": [
    "#Read the Gig CSV file\n",
    "gig_data = pd.read_csv('Resources/Pew_Gig_Data.csv')\n",
    "\n",
    "gig_df = pd.DataFrame(gig_data)\n",
    "gig_df.count() #4579 total"
   ]
  },
  {
   "cell_type": "code",
   "execution_count": null,
   "metadata": {},
   "outputs": [],
   "source": [
    "#Pull the ages for millennials in 2016 using age categories 1 & 2\n",
    "mill_df = gig_df.loc[(gig_df['F_AGECAT_FINAL'] == 1) | (gig_df['F_AGECAT_FINAL'] == 2) \\\n",
    "                     | (gig_df['F_AGECAT_FINAL'] == 3)]\n",
    "mill_df.count() #3277 total"
   ]
  },
  {
   "cell_type": "code",
   "execution_count": null,
   "metadata": {},
   "outputs": [],
   "source": [
    "#Determine the number of those participating in Gig work\n",
    "mill_gig_df = mill_df[['GIGWORK1_W19','RIDESHR_W19','GIGWORK2_A_W19','GIGWORK2_B_W19', \\\n",
    "                      'GIGWORK2_C_W19', 'GIGWORK2_D_W19', 'GIGWORK2_E_W19', 'GIGWORK2REF_W19', \\\n",
    "                      'GIGWORK3_W19', 'GIGWORK4_A_W19', 'GIGWORK4_B_W19', 'GIGWORK4_C_W19', \\\n",
    "                      'GIGWORK4_D_W19', 'GIGWORK4_E_W19', 'GIGWORK4_F_W19','GIGWORK4REF_W19', \\\n",
    "                      'GIGWORK5_W19', 'GIGWORK6_W19','INCCOUNT_W19','EXTRAINC_A_W19', 'EXTRAINC_B_W19', \\\n",
    "                      'EXTRAINC_C_W19', 'EXTRAINC_D_W19', 'EXTRAINC_E_W19', 'EXTRAINCREF_W19', \\\n",
    "                      'TENURE_W19','F_AGECAT_FINAL', 'F_SEX_FINAL', 'F_RACECMB_RECRUITMENT', \\\n",
    "                      'F_RACECMB_RECRUITMENT','F_INCOME_FINAL']]\n"
   ]
  },
  {
   "cell_type": "code",
   "execution_count": null,
   "metadata": {},
   "outputs": [],
   "source": [
    "#Write data to a csv\n",
    "mill_gig_df.to_csv('Output/GigWrk.csv', index=False)"
   ]
  },
  {
   "cell_type": "markdown",
   "metadata": {},
   "source": [
    "## 2010 Millennial Data"
   ]
  },
  {
   "cell_type": "code",
   "execution_count": 17,
   "metadata": {},
   "outputs": [],
   "source": [
    "#Get 2010 health data from csv file\n",
    "hc_data = pd.read_csv ('Resources/Pew_Millennials_Data.csv')\n",
    "\n",
    "mill_health_df = pd.DataFrame(hc_data)\n"
   ]
  },
  {
   "cell_type": "code",
   "execution_count": 34,
   "metadata": {},
   "outputs": [],
   "source": [
    "#Pull only health answers with the response ID and age\n",
    "mh_df = mill_health_df[['q1','q2','q3','q4','q6','q7.1','q7.2','q7.3','q7.4','q7.5','q7@','q7a', \\\n",
    "                        'q8a','q8b','q8c','q8d','q8e','q8f','q8g','q8h','int1', \\\n",
    "                        'q18c','q18d','q18e','q19','q20','q21','q31','q32','q33','q34','q35','q36', \\\n",
    "                        'q37','q38','q39','q42','q42','marital','race1_1','race1_2','race1_3','race1_4', \\\n",
    "                        'hh1','hh2','hh30','income','finan','home','age','health','state','sex', \\\n",
    "                        'kidsa','employ','employ2','employ3','educ','schl']]"
   ]
  },
  {
   "cell_type": "code",
   "execution_count": 35,
   "metadata": {},
   "outputs": [],
   "source": [
    "mh_df.to_csv('Output/Millennial.csv')"
   ]
  },
  {
   "cell_type": "markdown",
   "metadata": {},
   "source": [
    "## 2017 Health Data"
   ]
  },
  {
   "cell_type": "code",
   "execution_count": null,
   "metadata": {},
   "outputs": [],
   "source": [
    "#Get 2017 health data from csv file\n",
    "health_data = pd.read_csv ('Resources/personsx.csv')\n",
    "\n",
    "health_df = pd.DataFrame(health_data)\n"
   ]
  },
  {
   "cell_type": "code",
   "execution_count": null,
   "metadata": {},
   "outputs": [],
   "source": [
    "health_df.count() #72,831"
   ]
  },
  {
   "cell_type": "code",
   "execution_count": null,
   "metadata": {},
   "outputs": [],
   "source": [
    "#Pull only relevant health answers with the age\n",
    "health_stat_df = health_df[['AGE_P','SEX','PLAWKNOW', 'LAUNIT29','LAUNIT30','LAUNIT33', \\\n",
    "                             'LACHRONR','PDMED12M','PNMED12M','PHOSPYR2', \\\n",
    "                             'PHCHM2W', 'PHCPH2WR', 'PHCDV2W', 'P10DVYR']]\n"
   ]
  },
  {
   "cell_type": "code",
   "execution_count": null,
   "metadata": {},
   "outputs": [],
   "source": [
    "ins_cvg_df1 = health_df[['AGE_P','SEX','NOTCOV','COVER','PLNWRKS1','HICOSTR1', 'HILAST2','HISTOP1', \\\n",
    "                         'HISTOP2', 'HISTOP3','HISTOP4','HISTOP5', 'HISTOP6','HISTOP10','HISTOP11','HISTOP12', \\\n",
    "                         'HISTOP13','HISTOP14','HINOTYR','HINOTMYR','FHICHNG','FHIKDBA','FHIKDBB', \\\n",
    "                         'FHIKDBC','FHIKDBD','FHIKDBF','FHIKDBH','FHIKDBI','FHIKDBK', 'HCSPFYR', \\\n",
    "                         'MEDBNOP','MEDBILL','MEDBPAY']]\n"
   ]
  },
  {
   "cell_type": "code",
   "execution_count": null,
   "metadata": {},
   "outputs": [],
   "source": [
    "stat_df = health_df[['AGE_P','SEX','PHSTAT','PLBORN','YRSINUS','CITIZENP','EDUC1']]"
   ]
  }
 ],
 "metadata": {
  "kernelspec": {
   "display_name": "Python [conda env:.conda-PythonData] *",
   "language": "python",
   "name": "conda-env-.conda-PythonData-py"
  },
  "language_info": {
   "codemirror_mode": {
    "name": "ipython",
    "version": 3
   },
   "file_extension": ".py",
   "mimetype": "text/x-python",
   "name": "python",
   "nbconvert_exporter": "python",
   "pygments_lexer": "ipython3",
   "version": "3.6.9"
  }
 },
 "nbformat": 4,
 "nbformat_minor": 2
}

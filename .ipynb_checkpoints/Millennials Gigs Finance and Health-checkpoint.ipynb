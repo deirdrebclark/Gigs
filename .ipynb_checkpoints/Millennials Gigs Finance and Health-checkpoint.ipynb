{
 "cells": [
  {
   "cell_type": "code",
   "execution_count": 1,
   "metadata": {},
   "outputs": [],
   "source": [
    "#Get dependencies\n",
    "import pandas as pd"
   ]
  },
  {
   "cell_type": "markdown",
   "metadata": {},
   "source": [
    "## 2016 Gig Economy Data"
   ]
  },
  {
   "cell_type": "code",
   "execution_count": null,
   "metadata": {},
   "outputs": [],
   "source": [
    "#Read the Gig CSV file\n",
    "gig_data = pd.read_csv('Resources/Pew_Gig_Data.csv')\n",
    "\n",
    "gig_df = pd.DataFrame(gig_data)\n",
    "gig_df.count() #4579 total"
   ]
  },
  {
   "cell_type": "code",
   "execution_count": null,
   "metadata": {},
   "outputs": [],
   "source": [
    "#Pull the ages for millennials in 2016 using age categories 1 & 2\n",
    "mill_df = gig_df.loc[(gig_df['F_AGECAT_FINAL'] == 1) | (gig_df['F_AGECAT_FINAL'] == 2)]\n",
    "mill_df.count() #1827 total"
   ]
  },
  {
   "cell_type": "code",
   "execution_count": null,
   "metadata": {},
   "outputs": [],
   "source": [
    "#Determine the number of those participating in Gig work\n",
    "mill_gig_df = mill_df.loc[mill_df['GIGWORK1_W19']==1]\n",
    "mill_gig_df.count() #175 total"
   ]
  },
  {
   "cell_type": "markdown",
   "metadata": {},
   "source": [
    "## 2010 Health Data"
   ]
  },
  {
   "cell_type": "code",
   "execution_count": null,
   "metadata": {},
   "outputs": [],
   "source": [
    "#Get 2010 health data from csv file\n",
    "hc_data = pd.read_csv ('Resources/Pew_Millennials_Data.csv')\n",
    "\n",
    "hc_df = pd.DataFrame(hc_data)\n"
   ]
  },
  {
   "cell_type": "code",
   "execution_count": null,
   "metadata": {},
   "outputs": [],
   "source": [
    "#Pull only health answers with the response ID and age\n",
    "hc_df = hc_df[['resp','q7.1','q7.2','q7.3','q7.4','q7.5','age','health']]"
   ]
  },
  {
   "cell_type": "code",
   "execution_count": null,
   "metadata": {},
   "outputs": [],
   "source": [
    "#Questions 7.1 - 7.5 respondent ranked which generation is healthier (= 35)\n",
    "healthier_df = hc_df.loc[(hc_df['q7.1']==35) | (hc_df['q7.2']==35) | (hc_df['q7.3']==35) | \\\n",
    "                  (hc_df['q7.4']==35) | (hc_df['q7.5']==35)]\n"
   ]
  },
  {
   "cell_type": "code",
   "execution_count": null,
   "metadata": {},
   "outputs": [],
   "source": [
    "#Count how many millennials (ages 13 - 29) were insured in 2010\n",
    "insured_df = hc_df.loc[(hc_df['health']==1) & (hc_df['age']>=13) & (hc_df['age']<=29)].sum()\n",
    "uninsured_df = hc_df.loc[(hc_df['health']==2) & (hc_df['age']>=13) & (hc_df['age']<=29)].sum()"
   ]
  },
  {
   "cell_type": "markdown",
   "metadata": {},
   "source": [
    "## 2017 Health Data"
   ]
  },
  {
   "cell_type": "code",
   "execution_count": 2,
   "metadata": {},
   "outputs": [],
   "source": [
    "#Get 2017 health data from csv file\n",
    "health_data = pd.read_csv ('Resources/personsx.csv')\n",
    "\n",
    "health_df = pd.DataFrame(health_data)\n"
   ]
  },
  {
   "cell_type": "code",
   "execution_count": 3,
   "metadata": {},
   "outputs": [
    {
     "data": {
      "text/plain": [
       "SEX        72831\n",
       "FSPOUS2    30354\n",
       "COHAB1      4082\n",
       "COHAB2      1541\n",
       "FCOHAB3     4082\n",
       "           ...  \n",
       "WRKMYR     36984\n",
       "HIEMPOF    34814\n",
       "EDUC1      72831\n",
       "ERNYR_P    36984\n",
       "ENGLANG    68639\n",
       "Length: 129, dtype: int64"
      ]
     },
     "execution_count": 3,
     "metadata": {},
     "output_type": "execute_result"
    }
   ],
   "source": [
    "health_df.count() #72,831"
   ]
  },
  {
   "cell_type": "code",
   "execution_count": 9,
   "metadata": {},
   "outputs": [],
   "source": [
    "#Pull only relevant health answers with the age\n",
    "health_stat_df = health_df[['AGE_P','SEX','PLAWKNOW', 'LAUNIT29','LAUNIT30','LAUNIT33', \\\n",
    "                             'LACHRONR','PDMED12M','PNMED12M','PHOSPYR2', \\\n",
    "                             'PHCHM2W', 'PHCPH2WR', 'PHCDV2W', 'P10DVYR']]\n"
   ]
  },
  {
   "cell_type": "code",
   "execution_count": 14,
   "metadata": {},
   "outputs": [],
   "source": [
    "ins_cvg_df1 = health_df[['AGE_P','SEX','NOTCOV','COVER','PLNWRKS1','HICOSTR1', 'HILAST2','HISTOP1', \\\n",
    "                         'HISTOP2', 'HISTOP3','HISTOP4','HISTOP5', 'HISTOP6','HISTOP10','HISTOP11','HISTOP12', \\\n",
    "                         'HISTOP13','HISTOP14','HINOTYR','HINOTMYR','FHICHNG','FHIKDBA','FHIKDBB', \\\n",
    "                         'FHIKDBC','FHIKDBD','FHIKDBF','FHIKDBH','FHIKDBI','FHIKDBK', 'HCSPFYR', \\\n",
    "                         'MEDBNOP','MEDBILL','MEDBPAY']]\n"
   ]
  },
  {
   "cell_type": "code",
   "execution_count": 16,
   "metadata": {},
   "outputs": [],
   "source": [
    "stat_df = health_df[['AGE_P','SEX','PHSTAT','PLBORN','YRSINUS','CITIZENP','EDUC1']]"
   ]
  }
 ],
 "metadata": {
  "kernelspec": {
   "display_name": "Python [conda env:.conda-PythonData] *",
   "language": "python",
   "name": "conda-env-.conda-PythonData-py"
  },
  "language_info": {
   "codemirror_mode": {
    "name": "ipython",
    "version": 3
   },
   "file_extension": ".py",
   "mimetype": "text/x-python",
   "name": "python",
   "nbconvert_exporter": "python",
   "pygments_lexer": "ipython3",
   "version": "3.6.9"
  }
 },
 "nbformat": 4,
 "nbformat_minor": 2
}

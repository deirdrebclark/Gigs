{
 "cells": [
  {
   "cell_type": "code",
   "execution_count": 2,
   "metadata": {},
   "outputs": [],
   "source": [
    "#Import dependencies\n",
    "import pandas as pd"
   ]
  },
  {
   "cell_type": "code",
   "execution_count": 11,
   "metadata": {},
   "outputs": [
    {
     "data": {
      "text/plain": [
       "QKEY                            4579\n",
       "GIGWORK1_W19                    4579\n",
       "RIDESHR_W19                     4579\n",
       "GIGWORK2_A_W19                  4579\n",
       "GIGWORK2_B_W19                  4579\n",
       "GIGWORK2_C_W19                  4579\n",
       "GIGWORK2_D_W19                  4579\n",
       "GIGWORK2_E_W19                  4579\n",
       "GIGWORK2REF_W19                 4579\n",
       "GIGWORK3_W19                    4579\n",
       "GIGWORK4_A_W19                  4579\n",
       "GIGWORK4_B_W19                  4579\n",
       "GIGWORK4_C_W19                  4579\n",
       "GIGWORK4_D_W19                  4579\n",
       "GIGWORK4_E_W19                  4579\n",
       "GIGWORK4_F_W19                  4579\n",
       "GIGWORK4REF_W19                 4579\n",
       "GIGWORK5_W19                    4579\n",
       "GIGWORK6_W19                    4579\n",
       "INCCOUNT_W19                    4579\n",
       "EXTRAINC_A_W19                  4579\n",
       "EXTRAINC_B_W19                  4579\n",
       "EXTRAINC_C_W19                  4579\n",
       "EXTRAINC_D_W19                  4579\n",
       "EXTRAINC_E_W19                  4579\n",
       "EXTRAINCREF_W19                 4579\n",
       "TENURE_W19                      4579\n",
       "F_CREGION_FINAL                 4579\n",
       "F_AGECAT_FINAL                  4579\n",
       "F_SEX_FINAL                     4579\n",
       "F_EDUCCAT_FINAL                 4579\n",
       "F_EDUCCAT2_FINAL                4579\n",
       "F_HISP_RECRUITMENT              4579\n",
       "F_RACECMB_RECRUITMENT           4579\n",
       "F_RACETHN_RECRUITMENT           4579\n",
       "F_CITIZEN_RECODE_RECRUITMENT    4579\n",
       "F_MARITAL_FINAL                 4579\n",
       "F_RELIG_FINAL                   4579\n",
       "F_BORN_FINAL                    4579\n",
       "F_ATTEND_FINAL                  4579\n",
       "F_PARTY_FINAL                   4579\n",
       "F_PARTYLN_FINAL                 4579\n",
       "F_PARTYSUM_FINAL                4579\n",
       "F_INCOME_FINAL                  4579\n",
       "F_INCOME_RECODE_FINAL           4579\n",
       "F_REG_FINAL                     4579\n",
       "F_IDEO_FINAL                    4579\n",
       "F_IDEOCONSISTREC_RECRUITMENT    4579\n",
       "F_INTUSER_FINAL                 4579\n",
       "F_INSURANCE_FINAL               4579\n",
       "F_INT_FREQ1_FINAL               4579\n",
       "F_INT_FREQCOMB_FINAL            4579\n",
       "F_SNSUSER_FINAL                 4579\n",
       "F_BBINT_RF1                     4579\n",
       "WEIGHT_W19                      4579\n",
       "dtype: int64"
      ]
     },
     "execution_count": 11,
     "metadata": {},
     "output_type": "execute_result"
    }
   ],
   "source": [
    "#Read the Gig CSV file\n",
    "gig_data = pd.read_csv('Resources/Pew_Gig_Data.csv')\n",
    "\n",
    "gig_df = pd.DataFrame(gig_data)\n",
    "gig_df.count() #4579 total"
   ]
  },
  {
   "cell_type": "code",
   "execution_count": 8,
   "metadata": {},
   "outputs": [
    {
     "data": {
      "text/plain": [
       "QKEY                            551\n",
       "GIGWORK1_W19                    551\n",
       "RIDESHR_W19                     551\n",
       "GIGWORK2_A_W19                  551\n",
       "GIGWORK2_B_W19                  551\n",
       "GIGWORK2_C_W19                  551\n",
       "GIGWORK2_D_W19                  551\n",
       "GIGWORK2_E_W19                  551\n",
       "GIGWORK2REF_W19                 551\n",
       "GIGWORK3_W19                    551\n",
       "GIGWORK4_A_W19                  551\n",
       "GIGWORK4_B_W19                  551\n",
       "GIGWORK4_C_W19                  551\n",
       "GIGWORK4_D_W19                  551\n",
       "GIGWORK4_E_W19                  551\n",
       "GIGWORK4_F_W19                  551\n",
       "GIGWORK4REF_W19                 551\n",
       "GIGWORK5_W19                    551\n",
       "GIGWORK6_W19                    551\n",
       "INCCOUNT_W19                    551\n",
       "EXTRAINC_A_W19                  551\n",
       "EXTRAINC_B_W19                  551\n",
       "EXTRAINC_C_W19                  551\n",
       "EXTRAINC_D_W19                  551\n",
       "EXTRAINC_E_W19                  551\n",
       "EXTRAINCREF_W19                 551\n",
       "TENURE_W19                      551\n",
       "F_CREGION_FINAL                 551\n",
       "F_AGECAT_FINAL                  551\n",
       "F_SEX_FINAL                     551\n",
       "F_EDUCCAT_FINAL                 551\n",
       "F_EDUCCAT2_FINAL                551\n",
       "F_HISP_RECRUITMENT              551\n",
       "F_RACECMB_RECRUITMENT           551\n",
       "F_RACETHN_RECRUITMENT           551\n",
       "F_CITIZEN_RECODE_RECRUITMENT    551\n",
       "F_MARITAL_FINAL                 551\n",
       "F_RELIG_FINAL                   551\n",
       "F_BORN_FINAL                    551\n",
       "F_ATTEND_FINAL                  551\n",
       "F_PARTY_FINAL                   551\n",
       "F_PARTYLN_FINAL                 551\n",
       "F_PARTYSUM_FINAL                551\n",
       "F_INCOME_FINAL                  551\n",
       "F_INCOME_RECODE_FINAL           551\n",
       "F_REG_FINAL                     551\n",
       "F_IDEO_FINAL                    551\n",
       "F_IDEOCONSISTREC_RECRUITMENT    551\n",
       "F_INTUSER_FINAL                 551\n",
       "F_INSURANCE_FINAL               551\n",
       "F_INT_FREQ1_FINAL               551\n",
       "F_INT_FREQCOMB_FINAL            551\n",
       "F_SNSUSER_FINAL                 551\n",
       "F_BBINT_RF1                     551\n",
       "WEIGHT_W19                      551\n",
       "dtype: int64"
      ]
     },
     "execution_count": 8,
     "metadata": {},
     "output_type": "execute_result"
    }
   ],
   "source": [
    "#Pull the ages for millennials in 2016 using age category 1 which is 18 - 39\n",
    "mill_df = gig_df.loc[gig_df['F_AGECAT_FINAL'] == 1]\n",
    "mill_df.count() #551 total"
   ]
  },
  {
   "cell_type": "code",
   "execution_count": 10,
   "metadata": {},
   "outputs": [
    {
     "data": {
      "text/plain": [
       "QKEY                            77\n",
       "GIGWORK1_W19                    77\n",
       "RIDESHR_W19                     77\n",
       "GIGWORK2_A_W19                  77\n",
       "GIGWORK2_B_W19                  77\n",
       "GIGWORK2_C_W19                  77\n",
       "GIGWORK2_D_W19                  77\n",
       "GIGWORK2_E_W19                  77\n",
       "GIGWORK2REF_W19                 77\n",
       "GIGWORK3_W19                    77\n",
       "GIGWORK4_A_W19                  77\n",
       "GIGWORK4_B_W19                  77\n",
       "GIGWORK4_C_W19                  77\n",
       "GIGWORK4_D_W19                  77\n",
       "GIGWORK4_E_W19                  77\n",
       "GIGWORK4_F_W19                  77\n",
       "GIGWORK4REF_W19                 77\n",
       "GIGWORK5_W19                    77\n",
       "GIGWORK6_W19                    77\n",
       "INCCOUNT_W19                    77\n",
       "EXTRAINC_A_W19                  77\n",
       "EXTRAINC_B_W19                  77\n",
       "EXTRAINC_C_W19                  77\n",
       "EXTRAINC_D_W19                  77\n",
       "EXTRAINC_E_W19                  77\n",
       "EXTRAINCREF_W19                 77\n",
       "TENURE_W19                      77\n",
       "F_CREGION_FINAL                 77\n",
       "F_AGECAT_FINAL                  77\n",
       "F_SEX_FINAL                     77\n",
       "F_EDUCCAT_FINAL                 77\n",
       "F_EDUCCAT2_FINAL                77\n",
       "F_HISP_RECRUITMENT              77\n",
       "F_RACECMB_RECRUITMENT           77\n",
       "F_RACETHN_RECRUITMENT           77\n",
       "F_CITIZEN_RECODE_RECRUITMENT    77\n",
       "F_MARITAL_FINAL                 77\n",
       "F_RELIG_FINAL                   77\n",
       "F_BORN_FINAL                    77\n",
       "F_ATTEND_FINAL                  77\n",
       "F_PARTY_FINAL                   77\n",
       "F_PARTYLN_FINAL                 77\n",
       "F_PARTYSUM_FINAL                77\n",
       "F_INCOME_FINAL                  77\n",
       "F_INCOME_RECODE_FINAL           77\n",
       "F_REG_FINAL                     77\n",
       "F_IDEO_FINAL                    77\n",
       "F_IDEOCONSISTREC_RECRUITMENT    77\n",
       "F_INTUSER_FINAL                 77\n",
       "F_INSURANCE_FINAL               77\n",
       "F_INT_FREQ1_FINAL               77\n",
       "F_INT_FREQCOMB_FINAL            77\n",
       "F_SNSUSER_FINAL                 77\n",
       "F_BBINT_RF1                     77\n",
       "WEIGHT_W19                      77\n",
       "dtype: int64"
      ]
     },
     "execution_count": 10,
     "metadata": {},
     "output_type": "execute_result"
    }
   ],
   "source": [
    "mill_gig_df = mill_df.loc[mill_df['GIGWORK1_W19']==1]\n",
    "mill_gig_df.count() #77 total"
   ]
  },
  {
   "cell_type": "code",
   "execution_count": null,
   "metadata": {},
   "outputs": [],
   "source": []
  }
 ],
 "metadata": {
  "kernelspec": {
   "display_name": "Python [conda env:.conda-PythonData] *",
   "language": "python",
   "name": "conda-env-.conda-PythonData-py"
  },
  "language_info": {
   "codemirror_mode": {
    "name": "ipython",
    "version": 3
   },
   "file_extension": ".py",
   "mimetype": "text/x-python",
   "name": "python",
   "nbconvert_exporter": "python",
   "pygments_lexer": "ipython3",
   "version": "3.6.9"
  }
 },
 "nbformat": 4,
 "nbformat_minor": 2
}
